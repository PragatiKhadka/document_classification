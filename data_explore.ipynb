{
 "cells": [
  {
   "cell_type": "code",
   "execution_count": null,
   "metadata": {},
   "outputs": [],
   "source": [
    "#import necessary libraries\n",
    "import pandas as pd\n",
    "import json\n",
    "import numpy as np\n",
    "from tqdm.auto import tqdm\n",
    "import tensorflow as tf\n",
    "import matplotlib.pyplot as plt"
   ]
  },
  {
   "cell_type": "code",
   "execution_count": null,
   "metadata": {},
   "outputs": [],
   "source": [
    "df = pd.read_json(\"path_of_the_file\")\n",
    "df.head()"
   ]
  },
  {
   "cell_type": "code",
   "execution_count": null,
   "metadata": {},
   "outputs": [],
   "source": [
    "df = df.drop_duplicates()"
   ]
  },
  {
   "cell_type": "code",
   "execution_count": null,
   "metadata": {},
   "outputs": [],
   "source": [
    "df.culture.value_counts()"
   ]
  },
  {
   "cell_type": "code",
   "execution_count": null,
   "metadata": {},
   "outputs": [],
   "source": [
    "df.source.unique()"
   ]
  },
  {
   "cell_type": "code",
   "execution_count": null,
   "metadata": {},
   "outputs": [],
   "source": [
    "df.label.nunique()"
   ]
  },
  {
   "cell_type": "code",
   "execution_count": null,
   "metadata": {},
   "outputs": [],
   "source": [
    "df.culture.value_counts()"
   ]
  },
  {
   "cell_type": "code",
   "execution_count": null,
   "metadata": {},
   "outputs": [],
   "source": [
    "plt.style.use('ggplot')\n",
    "\n",
    "\n",
    "num_classes = len(df[\"label\"].value_counts())\n",
    "\n",
    "colors = plt.cm.Dark2(np.linspace(0, 1, num_classes))\n",
    "iter_color = iter(colors)\n",
    "\n",
    "df['label'].value_counts().plot.barh(title=\"Reviews for each label (n, %)\", \n",
    "                                                 ylabel=\"labels\",\n",
    "                                                 color=colors,\n",
    "                                                 figsize=(9,9))\n",
    "\n",
    "for i, v in enumerate(df['label'].value_counts()):\n",
    "  c = next(iter_color)\n",
    "  plt.text(v, i,\n",
    "           \" \"+str(v)+\", \"+str(round(v*100/df.shape[0],2))+\"%\", \n",
    "           color=c, \n",
    "           va='center', \n",
    "           fontweight='bold')"
   ]
  },
  {
   "cell_type": "code",
   "execution_count": null,
   "metadata": {},
   "outputs": [],
   "source": [
    "#select the rows only with training source\n",
    "df_training = df[df.source != 'WORKFLOW']\n",
    "df_training"
   ]
  },
  {
   "cell_type": "code",
   "execution_count": null,
   "metadata": {},
   "outputs": [],
   "source": [
    "df_training.culture.value_counts()"
   ]
  },
  {
   "cell_type": "code",
   "execution_count": null,
   "metadata": {},
   "outputs": [],
   "source": [
    "plt.style.use('ggplot')\n",
    "\n",
    "\n",
    "num_classes = len(df_training[\"label\"].value_counts())\n",
    "\n",
    "colors = plt.cm.Dark2(np.linspace(0, 1, num_classes))\n",
    "iter_color = iter(colors)\n",
    "\n",
    "df_training['label'].value_counts().plot.barh(title=\"Reviews for each label (n, %)\", \n",
    "                                                 ylabel=\"labels\",\n",
    "                                                 color=colors,\n",
    "                                                 figsize=(9,9))\n",
    "\n",
    "for i, v in enumerate(df_training['label'].value_counts()):\n",
    "  c = next(iter_color)\n",
    "  plt.text(v, i,\n",
    "           \" \"+str(v)+\", \"+str(round(v*100/df.shape[0],2))+\"%\", \n",
    "           color=c, \n",
    "           va='center', \n",
    "           fontweight='bold')"
   ]
  },
  {
   "cell_type": "code",
   "execution_count": null,
   "metadata": {},
   "outputs": [],
   "source": [
    "df_training.label.nunique()"
   ]
  },
  {
   "cell_type": "code",
   "execution_count": null,
   "metadata": {},
   "outputs": [],
   "source": [
    "df_training.to_csv('train_data.csv', index=False)"
   ]
  }
 ],
 "metadata": {
  "kernelspec": {
   "display_name": "Python 3.9.12 ('nlp')",
   "language": "python",
   "name": "python3"
  },
  "language_info": {
   "codemirror_mode": {
    "name": "ipython",
    "version": 3
   },
   "file_extension": ".py",
   "mimetype": "text/x-python",
   "name": "python",
   "nbconvert_exporter": "python",
   "pygments_lexer": "ipython3",
   "version": "3.9.12"
  },
  "orig_nbformat": 4,
  "vscode": {
   "interpreter": {
    "hash": "4f870e68b9436f49643135b35c4f835f13327db7ca6936246eabddb116e5747c"
   }
  }
 },
 "nbformat": 4,
 "nbformat_minor": 2
}
