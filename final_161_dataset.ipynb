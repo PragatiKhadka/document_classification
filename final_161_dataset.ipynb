{
 "cells": [
  {
   "cell_type": "code",
   "execution_count": null,
   "id": "f62b3c50",
   "metadata": {},
   "outputs": [],
   "source": [
    "import pandas as pd"
   ]
  },
  {
   "cell_type": "code",
   "execution_count": null,
   "id": "c09e0002",
   "metadata": {
    "scrolled": false
   },
   "outputs": [],
   "source": [
    "df = pd.read_json(\"C:\\\\Users\\\\thena\\\\OneDrive\\\\Desktop\\\\BeCode\\\\virtual-env\\\\nlp_proj\\\\data\\\\kone_classification.json\")\n",
    "df.head()"
   ]
  },
  {
   "cell_type": "code",
   "execution_count": null,
   "id": "825d7fda",
   "metadata": {},
   "outputs": [],
   "source": [
    "df.drop_duplicates(inplace=True)\n",
    "df.info()"
   ]
  },
  {
   "cell_type": "code",
   "execution_count": null,
   "id": "dd51a3e4",
   "metadata": {},
   "outputs": [],
   "source": [
    "df.label.nunique()"
   ]
  },
  {
   "cell_type": "code",
   "execution_count": null,
   "id": "cddb7467",
   "metadata": {},
   "outputs": [],
   "source": [
    "df = df[df['source'] == 'TRAINING']"
   ]
  },
  {
   "cell_type": "code",
   "execution_count": null,
   "id": "7beeb80e",
   "metadata": {},
   "outputs": [],
   "source": [
    "df.info()"
   ]
  },
  {
   "cell_type": "code",
   "execution_count": null,
   "id": "30a6e711",
   "metadata": {
    "scrolled": true
   },
   "outputs": [],
   "source": [
    "df = df[['text', 'label']]\n",
    "df.info()"
   ]
  },
  {
   "cell_type": "code",
   "execution_count": null,
   "id": "11d0e938",
   "metadata": {
    "scrolled": true
   },
   "outputs": [],
   "source": [
    "df.drop_duplicates(inplace=True)\n",
    "df.info()"
   ]
  },
  {
   "cell_type": "code",
   "execution_count": null,
   "id": "5faeabd6",
   "metadata": {
    "scrolled": true
   },
   "outputs": [],
   "source": [
    "df.head()"
   ]
  },
  {
   "cell_type": "code",
   "execution_count": null,
   "id": "520e1b07",
   "metadata": {},
   "outputs": [],
   "source": [
    "df['text'].nunique()"
   ]
  },
  {
   "cell_type": "code",
   "execution_count": null,
   "id": "eb154d5e",
   "metadata": {},
   "outputs": [],
   "source": [
    "df['label'].nunique()"
   ]
  },
  {
   "cell_type": "code",
   "execution_count": null,
   "id": "e0e9715f",
   "metadata": {},
   "outputs": [],
   "source": [
    "df_grp =df.groupby('text').count()"
   ]
  },
  {
   "cell_type": "code",
   "execution_count": null,
   "id": "9a32082f",
   "metadata": {},
   "outputs": [],
   "source": [
    "df_rep = df_grp[df_grp['label']!=1]\n",
    "df_rep"
   ]
  },
  {
   "cell_type": "code",
   "execution_count": null,
   "id": "fd165db5",
   "metadata": {},
   "outputs": [],
   "source": [
    "df_rep.index[0]"
   ]
  },
  {
   "cell_type": "code",
   "execution_count": null,
   "id": "6d35035f",
   "metadata": {},
   "outputs": [],
   "source": [
    "df_final = df[df.text != df_rep.index[0]]\n",
    "df_final = df_final[df_final.text != df_rep.index[1]]\n",
    "df_final = df_final[df_final.text != df_rep.index[2]]"
   ]
  },
  {
   "cell_type": "code",
   "execution_count": null,
   "id": "a380f3f8",
   "metadata": {},
   "outputs": [],
   "source": [
    "df_final.info()"
   ]
  },
  {
   "cell_type": "code",
   "execution_count": null,
   "id": "af142c99",
   "metadata": {},
   "outputs": [],
   "source": [
    "df_final.text.nunique()"
   ]
  }
 ],
 "metadata": {
  "kernelspec": {
   "display_name": "nlp_proj",
   "language": "python",
   "name": "nlp_proj"
  },
  "language_info": {
   "codemirror_mode": {
    "name": "ipython",
    "version": 3
   },
   "file_extension": ".py",
   "mimetype": "text/x-python",
   "name": "python",
   "nbconvert_exporter": "python",
   "pygments_lexer": "ipython3",
   "version": "3.10.2"
  }
 },
 "nbformat": 4,
 "nbformat_minor": 5
}
