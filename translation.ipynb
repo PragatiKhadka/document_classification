{
 "cells": [
  {
   "cell_type": "code",
   "execution_count": null,
   "id": "b99467f1",
   "metadata": {},
   "outputs": [],
   "source": [
    "import pandas as pd\n",
    "import matplotlib.pyplot as plt\n",
    "import numpy as np"
   ]
  },
  {
   "cell_type": "code",
   "execution_count": null,
   "id": "de0457c0",
   "metadata": {
    "scrolled": false
   },
   "outputs": [],
   "source": [
    "df = pd.read_json(\"C:\\\\Users\\\\thena\\\\OneDrive\\\\Desktop\\\\BeCode\\\\virtual-env\\\\nlp_proj\\\\data\\\\kone_classification.json\")\n",
    "df.head()"
   ]
  },
  {
   "cell_type": "code",
   "execution_count": null,
   "id": "152872bb",
   "metadata": {},
   "outputs": [],
   "source": [
    "df.drop_duplicates(inplace=True)\n",
    "df.info()"
   ]
  },
  {
   "cell_type": "code",
   "execution_count": null,
   "id": "30517424",
   "metadata": {},
   "outputs": [],
   "source": [
    "df.label.nunique()"
   ]
  },
  {
   "cell_type": "code",
   "execution_count": null,
   "id": "8e661222",
   "metadata": {},
   "outputs": [],
   "source": [
    "df = df[df['source'] == 'TRAINING']"
   ]
  },
  {
   "cell_type": "code",
   "execution_count": null,
   "id": "5f5232a1",
   "metadata": {},
   "outputs": [],
   "source": [
    "df.info()"
   ]
  },
  {
   "cell_type": "code",
   "execution_count": null,
   "id": "d6eb94f0",
   "metadata": {
    "scrolled": true
   },
   "outputs": [],
   "source": [
    "df = df[['text', 'label']]\n",
    "df.info()"
   ]
  },
  {
   "cell_type": "code",
   "execution_count": null,
   "id": "cc86c9cf",
   "metadata": {
    "scrolled": true
   },
   "outputs": [],
   "source": [
    "df.drop_duplicates(inplace=True)\n",
    "df.info()"
   ]
  },
  {
   "cell_type": "code",
   "execution_count": null,
   "id": "941b1feb",
   "metadata": {},
   "outputs": [],
   "source": [
    "df['text'].nunique()"
   ]
  },
  {
   "cell_type": "code",
   "execution_count": null,
   "id": "2f71e2fa",
   "metadata": {},
   "outputs": [],
   "source": [
    "df['label'].nunique()"
   ]
  },
  {
   "cell_type": "code",
   "execution_count": null,
   "id": "955a4165",
   "metadata": {},
   "outputs": [],
   "source": [
    "df_grp =df.groupby('text').count()"
   ]
  },
  {
   "cell_type": "code",
   "execution_count": null,
   "id": "e248f1e4",
   "metadata": {},
   "outputs": [],
   "source": [
    "df_rep = df_grp[df_grp['label']!=1]\n",
    "df_rep"
   ]
  },
  {
   "cell_type": "code",
   "execution_count": null,
   "id": "e3142477",
   "metadata": {},
   "outputs": [],
   "source": [
    "# remove the text with incorrect label\n",
    "df.drop(df[(df['text']==df_rep.index[0]) & (df['label'] == 'CAR06')].index, inplace=True)\n",
    "df.drop(df[(df['text']==df_rep.index[1]) & (df['label'] == 'CAR19')].index, inplace=True)\n",
    "df.drop(df[(df['text']==df_rep.index[2]) & (df['label'] == 'CAR04')].index, inplace=True)"
   ]
  },
  {
   "cell_type": "code",
   "execution_count": null,
   "id": "e3fc36d8",
   "metadata": {},
   "outputs": [],
   "source": [
    "df.info()"
   ]
  },
  {
   "cell_type": "code",
   "execution_count": null,
   "id": "607dee38",
   "metadata": {},
   "outputs": [],
   "source": [
    "plt.style.use('ggplot')\n",
    "\n",
    "num_classes = len(df[\"label\"].value_counts())\n",
    "\n",
    "colors = plt.cm.Dark2(np.linspace(0, 1, num_classes))\n",
    "iter_color = iter(colors)\n",
    "\n",
    "df['label'].value_counts().plot.barh(title=\"Reviews for each label (n, %)\", \n",
    "                                                 ylabel=\"labels\",\n",
    "                                                 color=colors,\n",
    "                                                 figsize=(9,9))\n",
    "\n",
    "for i, v in enumerate(df['label'].value_counts()):\n",
    "    c = next(iter_color)\n",
    "    plt.text(v, i,\n",
    "           \" \"+str(v)+\", \"+str(round(v*100/df.shape[0],2))+\"%\", \n",
    "           color=c, \n",
    "           va='center', \n",
    "           fontweight='bold')"
   ]
  },
  {
   "cell_type": "code",
   "execution_count": null,
   "id": "4746931c",
   "metadata": {},
   "outputs": [],
   "source": [
    "# add a flag to denote the original data\n",
    "df['translated'] = 0\n",
    "df.head()"
   ]
  },
  {
   "cell_type": "code",
   "execution_count": null,
   "id": "e8c1b71a",
   "metadata": {},
   "outputs": [],
   "source": [
    "# import googletrans\n",
    "# from googletrans import Translator\n",
    "# translator = Translator()\n",
    "# pd.set_option('max_colwidth', 350)"
   ]
  },
  {
   "cell_type": "code",
   "execution_count": null,
   "id": "a92f80b4",
   "metadata": {},
   "outputs": [],
   "source": [
    "# print(googletrans.LANGUAGES)"
   ]
  },
  {
   "cell_type": "code",
   "execution_count": null,
   "id": "9bf0dc3c",
   "metadata": {},
   "outputs": [],
   "source": [
    "# df_final['trans_fr_it_fr'] = df_final['text'].apply(lambda x: translator.translate(translator.translate(x, dest='it').text, dest='fr').text)\n",
    "# df_final"
   ]
  },
  {
   "cell_type": "code",
   "execution_count": null,
   "id": "a641ab33",
   "metadata": {},
   "outputs": [],
   "source": [
    "# df_final['trans_'] = df_final['text'].apply(lambda x: translator.translate(translator.translate(x, dest='en').text, dest='fr').text)\n",
    "# df_final"
   ]
  },
  {
   "cell_type": "code",
   "execution_count": null,
   "id": "1c9a3d6a",
   "metadata": {},
   "outputs": [],
   "source": [
    "# df_final = df_final.rename(columns = {'new_text':'trans_fr_en_fr'}) "
   ]
  },
  {
   "cell_type": "code",
   "execution_count": null,
   "id": "c41a159a",
   "metadata": {},
   "outputs": [],
   "source": [
    "#df_final.to_csv(\"C:\\\\Users\\\\thena\\\\OneDrive\\\\Desktop\\\\BeCode\\\\virtual-env\\\\nlp_proj\\\\data\\\\data_trans_en_it.csv\")"
   ]
  },
  {
   "cell_type": "code",
   "execution_count": null,
   "id": "9674aab5",
   "metadata": {},
   "outputs": [],
   "source": [
    "df_en_it = pd.read_csv(\"C:\\\\Users\\\\thena\\\\OneDrive\\\\Desktop\\\\BeCode\\\\virtual-env\\\\nlp_proj\\\\data\\\\data_trans_en_it.csv\")\n",
    "df_en_it.drop(columns='Unnamed: 0', inplace=True)\n",
    "df_en_it['translated_en'] = 1\n",
    "df_en_it['translated_it'] = 2\n",
    "df_en_it.head()"
   ]
  },
  {
   "cell_type": "code",
   "execution_count": null,
   "id": "48c7119a",
   "metadata": {},
   "outputs": [],
   "source": [
    "df_en = df_en_it[['trans_fr_en_fr','label','translated_en']]\n",
    "df_en = df_en.copy()\n",
    "df_en.rename(columns={\"trans_fr_en_fr\": \"text\",'translated_en':'translated'},inplace=True)\n",
    "df_en.head()"
   ]
  },
  {
   "cell_type": "code",
   "execution_count": null,
   "id": "72f9fff7",
   "metadata": {},
   "outputs": [],
   "source": [
    "df_it = df_en_it[['trans_fr_it_fr','label','translated_it']]\n",
    "df_it = df_it.copy()\n",
    "df_it.rename(columns={\"trans_fr_it_fr\": \"text\",'translated_it':'translated'},inplace=True)\n",
    "df_it.head()"
   ]
  },
  {
   "cell_type": "code",
   "execution_count": null,
   "id": "bc9c4001",
   "metadata": {},
   "outputs": [],
   "source": [
    "df_es = pd.read_csv('es_fr_es.csv')\n",
    "df_es.drop(columns='Unnamed: 0', inplace=True)\n",
    "df_es['translated'] = 3\n",
    "df_es.head()"
   ]
  },
  {
   "cell_type": "code",
   "execution_count": null,
   "id": "871c686c",
   "metadata": {},
   "outputs": [],
   "source": [
    "df_es = df_es[['spanish_trans','label','translated']]\n",
    "df_es.head()"
   ]
  },
  {
   "cell_type": "code",
   "execution_count": null,
   "id": "0ed631ed",
   "metadata": {},
   "outputs": [],
   "source": [
    "df_es = df_es.copy()\n",
    "df_es.rename(columns={\"spanish_trans\": \"text\"},inplace=True)\n",
    "df_es.head()"
   ]
  },
  {
   "cell_type": "code",
   "execution_count": null,
   "id": "df9d087e",
   "metadata": {},
   "outputs": [],
   "source": [
    "df_cn = pd.read_csv('fr_cn_fr.csv')\n",
    "df_cn.drop(columns='Unnamed: 0', inplace=True)\n",
    "df_cn['translated'] = 4\n",
    "df_cn.head()"
   ]
  },
  {
   "cell_type": "code",
   "execution_count": null,
   "id": "7cbc162a",
   "metadata": {},
   "outputs": [],
   "source": [
    "df_cn = df_cn[['chinese_trans','label','translated']]\n",
    "df_cn = df_cn.copy()\n",
    "df_cn.rename(columns={\"chinese_trans\": \"text\"},inplace=True)\n",
    "df_cn.head()"
   ]
  },
  {
   "cell_type": "code",
   "execution_count": null,
   "id": "b128bcab",
   "metadata": {},
   "outputs": [],
   "source": [
    "df_trans = pd.concat([df_en, df_es, df_it, df_cn,], axis=0)\n",
    "df_trans.info()"
   ]
  },
  {
   "cell_type": "code",
   "execution_count": null,
   "id": "891255da",
   "metadata": {},
   "outputs": [],
   "source": [
    "# select only the classes that has samples less than 10\n",
    "ex_label = ['DOC03', 'CAR06','CAR02', 'SH01', 'DOC01', 'OTHER', 'DOC02']\n",
    "df_trans = df_trans[~df_trans['label'].isin(ex_label) ]\n",
    "df_trans.head()"
   ]
  },
  {
   "cell_type": "code",
   "execution_count": null,
   "id": "18d259fa",
   "metadata": {},
   "outputs": [],
   "source": [
    "df_trans.info()"
   ]
  },
  {
   "cell_type": "code",
   "execution_count": null,
   "id": "e122a065",
   "metadata": {},
   "outputs": [],
   "source": [
    "# drop duplicates from the translated dataframe\n",
    "df_trans = df_trans.drop_duplicates()\n",
    "df_trans.info()"
   ]
  },
  {
   "cell_type": "code",
   "execution_count": null,
   "id": "e20819b9",
   "metadata": {},
   "outputs": [],
   "source": [
    "# concat the original data with the translated data\n",
    "trans_result = pd.concat([df,df_trans])\n",
    "trans_result.info()"
   ]
  },
  {
   "cell_type": "code",
   "execution_count": null,
   "id": "cac71f82",
   "metadata": {},
   "outputs": [],
   "source": [
    "plt.style.use('ggplot')\n",
    "\n",
    "num_classes = len(trans_result[\"label\"].value_counts())\n",
    "\n",
    "colors = plt.cm.Dark2(np.linspace(0, 1, num_classes))\n",
    "iter_color = iter(colors)\n",
    "\n",
    "trans_result['label'].value_counts().plot.barh(title=\"Reviews for each label (n, %)\", \n",
    "                                                 ylabel=\"labels\",\n",
    "                                                 color=colors,\n",
    "                                                 figsize=(9,9))\n",
    "\n",
    "for i, v in enumerate(trans_result['label'].value_counts()):\n",
    "    c = next(iter_color)\n",
    "    plt.text(v, i,\n",
    "           \" \"+str(v)+\", \"+str(round(v*100/trans_result.shape[0],2))+\"%\", \n",
    "           color=c, \n",
    "           va='center', \n",
    "           fontweight='bold')"
   ]
  },
  {
   "cell_type": "code",
   "execution_count": null,
   "id": "9e54640b",
   "metadata": {},
   "outputs": [],
   "source": [
    "check_trans_result = trans_result.drop_duplicates()\n",
    "check_trans_result.info()"
   ]
  },
  {
   "cell_type": "code",
   "execution_count": null,
   "id": "14fb185e",
   "metadata": {},
   "outputs": [],
   "source": [
    "#check_trans_result.to_csv('data_after_translation13091.csv', sep=';',index=False)"
   ]
  }
 ],
 "metadata": {
  "kernelspec": {
   "display_name": "nlp_proj",
   "language": "python",
   "name": "nlp_proj"
  },
  "language_info": {
   "codemirror_mode": {
    "name": "ipython",
    "version": 3
   },
   "file_extension": ".py",
   "mimetype": "text/x-python",
   "name": "python",
   "nbconvert_exporter": "python",
   "pygments_lexer": "ipython3",
   "version": "3.10.2"
  }
 },
 "nbformat": 4,
 "nbformat_minor": 5
}
